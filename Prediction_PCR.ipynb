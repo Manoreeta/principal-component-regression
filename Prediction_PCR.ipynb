{
 "cells": [
  {
   "cell_type": "markdown",
   "id": "dd61cc45",
   "metadata": {},
   "source": [
    "#### 1. Importing the needed libraries and functions"
   ]
  },
  {
   "cell_type": "code",
   "execution_count": 1,
   "id": "62123272",
   "metadata": {},
   "outputs": [],
   "source": [
    "%matplotlib inline\n",
    "\n",
    "import pandas as pd\n",
    "import numpy as np\n",
    "import matplotlib.pyplot as plt\n",
    "\n",
    "from sklearn.preprocessing import scale \n",
    "from sklearn import model_selection\n",
    "from sklearn.model_selection import cross_validate, cross_val_predict\n",
    "from sklearn.decomposition import PCA\n",
    "from sklearn.linear_model import LinearRegression\n",
    "from sklearn.cross_decomposition import PLSRegression, PLSSVD\n",
    "from sklearn.metrics import mean_squared_error"
   ]
  },
  {
   "cell_type": "markdown",
   "id": "7c943f16",
   "metadata": {},
   "source": [
    "#### 2. Importing the dataset"
   ]
  },
  {
   "cell_type": "code",
   "execution_count": 2,
   "id": "86fd8ae7",
   "metadata": {
    "scrolled": true
   },
   "outputs": [
    {
     "data": {
      "text/html": [
       "<div>\n",
       "<style scoped>\n",
       "    .dataframe tbody tr th:only-of-type {\n",
       "        vertical-align: middle;\n",
       "    }\n",
       "\n",
       "    .dataframe tbody tr th {\n",
       "        vertical-align: top;\n",
       "    }\n",
       "\n",
       "    .dataframe thead th {\n",
       "        text-align: right;\n",
       "    }\n",
       "</style>\n",
       "<table border=\"1\" class=\"dataframe\">\n",
       "  <thead>\n",
       "    <tr style=\"text-align: right;\">\n",
       "      <th></th>\n",
       "      <th>1</th>\n",
       "      <th>1.488</th>\n",
       "      <th>0.000090213</th>\n",
       "      <th>0.9</th>\n",
       "      <th>0.794</th>\n",
       "      <th>2.699</th>\n",
       "      <th>8.334</th>\n",
       "      <th>0.779</th>\n",
       "      <th>4.517</th>\n",
       "      <th>4.609</th>\n",
       "      <th>...</th>\n",
       "      <th>187.576</th>\n",
       "      <th>160</th>\n",
       "      <th>159</th>\n",
       "      <th>0.006064725</th>\n",
       "      <th>0.000416276</th>\n",
       "      <th>0</th>\n",
       "      <th>0.1</th>\n",
       "      <th>0.2</th>\n",
       "      <th>23</th>\n",
       "      <th>1.1</th>\n",
       "    </tr>\n",
       "  </thead>\n",
       "  <tbody>\n",
       "    <tr>\n",
       "      <th>0</th>\n",
       "      <td>1</td>\n",
       "      <td>0.728</td>\n",
       "      <td>0.000038</td>\n",
       "      <td>0.353</td>\n",
       "      <td>0.376</td>\n",
       "      <td>1.059</td>\n",
       "      <td>5.864</td>\n",
       "      <td>0.642</td>\n",
       "      <td>2.058</td>\n",
       "      <td>3.180</td>\n",
       "      <td>...</td>\n",
       "      <td>234.505</td>\n",
       "      <td>170</td>\n",
       "      <td>169</td>\n",
       "      <td>0.005181</td>\n",
       "      <td>0.000403</td>\n",
       "      <td>2.247</td>\n",
       "      <td>0</td>\n",
       "      <td>0.000</td>\n",
       "      <td>23</td>\n",
       "      <td>1</td>\n",
       "    </tr>\n",
       "    <tr>\n",
       "      <th>1</th>\n",
       "      <td>1</td>\n",
       "      <td>1.220</td>\n",
       "      <td>0.000074</td>\n",
       "      <td>0.732</td>\n",
       "      <td>0.670</td>\n",
       "      <td>2.196</td>\n",
       "      <td>8.719</td>\n",
       "      <td>0.875</td>\n",
       "      <td>4.347</td>\n",
       "      <td>5.166</td>\n",
       "      <td>...</td>\n",
       "      <td>211.442</td>\n",
       "      <td>1431</td>\n",
       "      <td>1427</td>\n",
       "      <td>0.006071</td>\n",
       "      <td>0.000474</td>\n",
       "      <td>10.656</td>\n",
       "      <td>1</td>\n",
       "      <td>0.178</td>\n",
       "      <td>23</td>\n",
       "      <td>1</td>\n",
       "    </tr>\n",
       "    <tr>\n",
       "      <th>2</th>\n",
       "      <td>1</td>\n",
       "      <td>2.502</td>\n",
       "      <td>0.000123</td>\n",
       "      <td>1.156</td>\n",
       "      <td>1.634</td>\n",
       "      <td>3.469</td>\n",
       "      <td>13.513</td>\n",
       "      <td>1.273</td>\n",
       "      <td>5.263</td>\n",
       "      <td>8.771</td>\n",
       "      <td>...</td>\n",
       "      <td>220.230</td>\n",
       "      <td>94</td>\n",
       "      <td>92</td>\n",
       "      <td>0.004910</td>\n",
       "      <td>0.000320</td>\n",
       "      <td>0.000</td>\n",
       "      <td>0</td>\n",
       "      <td>0.000</td>\n",
       "      <td>23</td>\n",
       "      <td>1</td>\n",
       "    </tr>\n",
       "    <tr>\n",
       "      <th>3</th>\n",
       "      <td>1</td>\n",
       "      <td>3.509</td>\n",
       "      <td>0.000167</td>\n",
       "      <td>1.715</td>\n",
       "      <td>1.539</td>\n",
       "      <td>5.145</td>\n",
       "      <td>9.112</td>\n",
       "      <td>1.040</td>\n",
       "      <td>3.102</td>\n",
       "      <td>4.927</td>\n",
       "      <td>...</td>\n",
       "      <td>225.162</td>\n",
       "      <td>117</td>\n",
       "      <td>114</td>\n",
       "      <td>0.004757</td>\n",
       "      <td>0.000380</td>\n",
       "      <td>18.182</td>\n",
       "      <td>1</td>\n",
       "      <td>13.318</td>\n",
       "      <td>23</td>\n",
       "      <td>1</td>\n",
       "    </tr>\n",
       "    <tr>\n",
       "      <th>4</th>\n",
       "      <td>1</td>\n",
       "      <td>2.470</td>\n",
       "      <td>0.000126</td>\n",
       "      <td>1.358</td>\n",
       "      <td>1.341</td>\n",
       "      <td>4.075</td>\n",
       "      <td>10.696</td>\n",
       "      <td>1.256</td>\n",
       "      <td>5.262</td>\n",
       "      <td>7.076</td>\n",
       "      <td>...</td>\n",
       "      <td>202.812</td>\n",
       "      <td>74</td>\n",
       "      <td>73</td>\n",
       "      <td>0.005118</td>\n",
       "      <td>0.000187</td>\n",
       "      <td>23.214</td>\n",
       "      <td>0</td>\n",
       "      <td>0.000</td>\n",
       "      <td>23</td>\n",
       "      <td>1</td>\n",
       "    </tr>\n",
       "  </tbody>\n",
       "</table>\n",
       "<p>5 rows × 29 columns</p>\n",
       "</div>"
      ],
      "text/plain": [
       "   1  1.488  0.000090213    0.9  0.794  2.699   8.334  0.779  4.517  4.609  \\\n",
       "0  1  0.728     0.000038  0.353  0.376  1.059   5.864  0.642  2.058  3.180   \n",
       "1  1  1.220     0.000074  0.732  0.670  2.196   8.719  0.875  4.347  5.166   \n",
       "2  1  2.502     0.000123  1.156  1.634  3.469  13.513  1.273  5.263  8.771   \n",
       "3  1  3.509     0.000167  1.715  1.539  5.145   9.112  1.040  3.102  4.927   \n",
       "4  1  2.470     0.000126  1.358  1.341  4.075  10.696  1.256  5.262  7.076   \n",
       "\n",
       "   ...  187.576   160   159  0.006064725  0.000416276       0  0.1     0.2  \\\n",
       "0  ...  234.505   170   169     0.005181     0.000403   2.247    0   0.000   \n",
       "1  ...  211.442  1431  1427     0.006071     0.000474  10.656    1   0.178   \n",
       "2  ...  220.230    94    92     0.004910     0.000320   0.000    0   0.000   \n",
       "3  ...  225.162   117   114     0.004757     0.000380  18.182    1  13.318   \n",
       "4  ...  202.812    74    73     0.005118     0.000187  23.214    0   0.000   \n",
       "\n",
       "   23  1.1  \n",
       "0  23    1  \n",
       "1  23    1  \n",
       "2  23    1  \n",
       "3  23    1  \n",
       "4  23    1  \n",
       "\n",
       "[5 rows x 29 columns]"
      ]
     },
     "execution_count": 2,
     "metadata": {},
     "output_type": "execute_result"
    }
   ],
   "source": [
    "data = pd.read_table(\"data_ML/Assig2_data.txt\",sep=\",\")\n",
    "data.head()"
   ]
  },
  {
   "cell_type": "markdown",
   "id": "3f947a53",
   "metadata": {},
   "source": [
    "#### 3. Data Pre-processing / Data Cleaning"
   ]
  },
  {
   "cell_type": "code",
   "execution_count": 3,
   "id": "71b6e113",
   "metadata": {},
   "outputs": [
    {
     "data": {
      "text/plain": [
       "Index(['Subject.id', 'Jitter(local)', 'Jitter(local,absolute)', 'Jitter(rap)',\n",
       "       'Jitter(ppq5)', 'Jitter(ddp)', 'Shimmer(local)', 'Shimmer(local, dB)',\n",
       "       'Shimmer(apq3)', 'Shimmer(apq5)', 'Shimmer(apq11)', 'Shimmer(dda)',\n",
       "       'AC', 'NTH', 'HTN', 'Median.pitch', 'Mean.pitch', 'Standard.deviation',\n",
       "       'Minimum.pitch', 'Maximum.pitch', 'Number.of.pulses',\n",
       "       'Number.of.periods', 'Mean.period', 'Standard.deviation.of.period',\n",
       "       'Fraction.of.locally.unvoiced.frames', 'Number.of.voice.breaks',\n",
       "       'Degree.of.voice.breaks', 'UPDRS.score', 'class.information'],\n",
       "      dtype='object')"
      ]
     },
     "execution_count": 3,
     "metadata": {},
     "output_type": "execute_result"
    }
   ],
   "source": [
    "data.columns = [\"Subject.id\", \"Jitter(local)\", \"Jitter(local,absolute)\", \"Jitter(rap)\", \"Jitter(ppq5)\",\"Jitter(ddp)\",\n",
    "               \"Shimmer(local)\", \"Shimmer(local, dB)\", \"Shimmer(apq3)\", \"Shimmer(apq5)\", \"Shimmer(apq11)\", \"Shimmer(dda)\",\n",
    "               \"AC\", \"NTH\", \"HTN\", \"Median.pitch\", \"Mean.pitch\", \"Standard.deviation\", \"Minimum.pitch\", \"Maximum.pitch\",\n",
    "               \"Number.of.pulses\", \"Number.of.periods\", \"Mean.period\", \"Standard.deviation.of.period\",\n",
    "               \"Fraction.of.locally.unvoiced.frames\", \"Number.of.voice.breaks\", \"Degree.of.voice.breaks\",\n",
    "               \"UPDRS.score\",\"class.information\"]\n",
    "data.columns"
   ]
  },
  {
   "cell_type": "markdown",
   "id": "6ca9afdc",
   "metadata": {},
   "source": [
    "##### Note: Since the columns are unnamed, the columns were assigned with the respecitive names in the above step"
   ]
  },
  {
   "cell_type": "markdown",
   "id": "5145d5cd",
   "metadata": {},
   "source": [
    "##### Checking for missing values and duplicated data"
   ]
  },
  {
   "cell_type": "code",
   "execution_count": 4,
   "id": "1823b22d",
   "metadata": {},
   "outputs": [
    {
     "data": {
      "text/plain": [
       "Subject.id                             0\n",
       "Jitter(local)                          0\n",
       "Jitter(local,absolute)                 0\n",
       "Jitter(rap)                            0\n",
       "Jitter(ppq5)                           0\n",
       "Jitter(ddp)                            0\n",
       "Shimmer(local)                         0\n",
       "Shimmer(local, dB)                     0\n",
       "Shimmer(apq3)                          0\n",
       "Shimmer(apq5)                          0\n",
       "Shimmer(apq11)                         0\n",
       "Shimmer(dda)                           0\n",
       "AC                                     0\n",
       "NTH                                    0\n",
       "HTN                                    0\n",
       "Median.pitch                           0\n",
       "Mean.pitch                             0\n",
       "Standard.deviation                     0\n",
       "Minimum.pitch                          0\n",
       "Maximum.pitch                          0\n",
       "Number.of.pulses                       0\n",
       "Number.of.periods                      0\n",
       "Mean.period                            0\n",
       "Standard.deviation.of.period           0\n",
       "Fraction.of.locally.unvoiced.frames    0\n",
       "Number.of.voice.breaks                 0\n",
       "Degree.of.voice.breaks                 0\n",
       "UPDRS.score                            0\n",
       "class.information                      0\n",
       "dtype: int64"
      ]
     },
     "execution_count": 4,
     "metadata": {},
     "output_type": "execute_result"
    }
   ],
   "source": [
    "data.isnull().sum()"
   ]
  },
  {
   "cell_type": "code",
   "execution_count": 5,
   "id": "aac3e20f",
   "metadata": {},
   "outputs": [
    {
     "data": {
      "text/plain": [
       "False    29\n",
       "dtype: int64"
      ]
     },
     "execution_count": 5,
     "metadata": {},
     "output_type": "execute_result"
    }
   ],
   "source": [
    "(data.isnull().sum()!=0).value_counts()"
   ]
  },
  {
   "cell_type": "code",
   "execution_count": 6,
   "id": "e4ec2ba4",
   "metadata": {},
   "outputs": [
    {
     "data": {
      "text/plain": [
       "False"
      ]
     },
     "execution_count": 6,
     "metadata": {},
     "output_type": "execute_result"
    }
   ],
   "source": [
    "df = pd.DataFrame(data)\n",
    "df\n",
    "(df.duplicated().sum()==True)"
   ]
  },
  {
   "cell_type": "markdown",
   "id": "6998d28a",
   "metadata": {},
   "source": [
    "##### Note: No further cleaning process done, as there are no missing values and duplicate data"
   ]
  },
  {
   "cell_type": "markdown",
   "id": "f7a8f032",
   "metadata": {},
   "source": [
    "#### 4. Data Exploration"
   ]
  },
  {
   "cell_type": "code",
   "execution_count": 7,
   "id": "6dcca13b",
   "metadata": {},
   "outputs": [
    {
     "name": "stdout",
     "output_type": "stream",
     "text": [
      "<class 'pandas.core.frame.DataFrame'>\n",
      "RangeIndex: 1039 entries, 0 to 1038\n",
      "Data columns (total 29 columns):\n",
      " #   Column                               Non-Null Count  Dtype  \n",
      "---  ------                               --------------  -----  \n",
      " 0   Subject.id                           1039 non-null   int64  \n",
      " 1   Jitter(local)                        1039 non-null   float64\n",
      " 2   Jitter(local,absolute)               1039 non-null   float64\n",
      " 3   Jitter(rap)                          1039 non-null   float64\n",
      " 4   Jitter(ppq5)                         1039 non-null   float64\n",
      " 5   Jitter(ddp)                          1039 non-null   float64\n",
      " 6   Shimmer(local)                       1039 non-null   float64\n",
      " 7   Shimmer(local, dB)                   1039 non-null   float64\n",
      " 8   Shimmer(apq3)                        1039 non-null   float64\n",
      " 9   Shimmer(apq5)                        1039 non-null   float64\n",
      " 10  Shimmer(apq11)                       1039 non-null   float64\n",
      " 11  Shimmer(dda)                         1039 non-null   float64\n",
      " 12  AC                                   1039 non-null   float64\n",
      " 13  NTH                                  1039 non-null   float64\n",
      " 14  HTN                                  1039 non-null   float64\n",
      " 15  Median.pitch                         1039 non-null   float64\n",
      " 16  Mean.pitch                           1039 non-null   float64\n",
      " 17  Standard.deviation                   1039 non-null   float64\n",
      " 18  Minimum.pitch                        1039 non-null   float64\n",
      " 19  Maximum.pitch                        1039 non-null   float64\n",
      " 20  Number.of.pulses                     1039 non-null   int64  \n",
      " 21  Number.of.periods                    1039 non-null   int64  \n",
      " 22  Mean.period                          1039 non-null   float64\n",
      " 23  Standard.deviation.of.period         1039 non-null   float64\n",
      " 24  Fraction.of.locally.unvoiced.frames  1039 non-null   float64\n",
      " 25  Number.of.voice.breaks               1039 non-null   int64  \n",
      " 26  Degree.of.voice.breaks               1039 non-null   float64\n",
      " 27  UPDRS.score                          1039 non-null   int64  \n",
      " 28  class.information                    1039 non-null   int64  \n",
      "dtypes: float64(23), int64(6)\n",
      "memory usage: 235.5 KB\n"
     ]
    }
   ],
   "source": [
    "data.info()"
   ]
  },
  {
   "cell_type": "markdown",
   "id": "8bc378a6",
   "metadata": {},
   "source": [
    "##### Note: There are 1039 observations with 29 variables. "
   ]
  },
  {
   "cell_type": "markdown",
   "id": "47475667",
   "metadata": {},
   "source": [
    "#### 5. Splitting the dataset into X (dependant variable) and Y (response variable)"
   ]
  },
  {
   "cell_type": "code",
   "execution_count": 9,
   "id": "12873537",
   "metadata": {},
   "outputs": [],
   "source": [
    "X = data.drop(['UPDRS.score','class.information','Subject.id'],axis=1)\n",
    "Y = data['UPDRS.score']"
   ]
  },
  {
   "cell_type": "code",
   "execution_count": 10,
   "id": "29ca5dea",
   "metadata": {},
   "outputs": [
    {
     "data": {
      "text/html": [
       "<div>\n",
       "<style scoped>\n",
       "    .dataframe tbody tr th:only-of-type {\n",
       "        vertical-align: middle;\n",
       "    }\n",
       "\n",
       "    .dataframe tbody tr th {\n",
       "        vertical-align: top;\n",
       "    }\n",
       "\n",
       "    .dataframe thead th {\n",
       "        text-align: right;\n",
       "    }\n",
       "</style>\n",
       "<table border=\"1\" class=\"dataframe\">\n",
       "  <thead>\n",
       "    <tr style=\"text-align: right;\">\n",
       "      <th></th>\n",
       "      <th>Jitter(local)</th>\n",
       "      <th>Jitter(local,absolute)</th>\n",
       "      <th>Jitter(rap)</th>\n",
       "      <th>Jitter(ppq5)</th>\n",
       "      <th>Jitter(ddp)</th>\n",
       "      <th>Shimmer(local)</th>\n",
       "      <th>Shimmer(local, dB)</th>\n",
       "      <th>Shimmer(apq3)</th>\n",
       "      <th>Shimmer(apq5)</th>\n",
       "      <th>Shimmer(apq11)</th>\n",
       "      <th>...</th>\n",
       "      <th>Standard.deviation</th>\n",
       "      <th>Minimum.pitch</th>\n",
       "      <th>Maximum.pitch</th>\n",
       "      <th>Number.of.pulses</th>\n",
       "      <th>Number.of.periods</th>\n",
       "      <th>Mean.period</th>\n",
       "      <th>Standard.deviation.of.period</th>\n",
       "      <th>Fraction.of.locally.unvoiced.frames</th>\n",
       "      <th>Number.of.voice.breaks</th>\n",
       "      <th>Degree.of.voice.breaks</th>\n",
       "    </tr>\n",
       "  </thead>\n",
       "  <tbody>\n",
       "    <tr>\n",
       "      <th>0</th>\n",
       "      <td>0.728</td>\n",
       "      <td>0.000038</td>\n",
       "      <td>0.353</td>\n",
       "      <td>0.376</td>\n",
       "      <td>1.059</td>\n",
       "      <td>5.864</td>\n",
       "      <td>0.642</td>\n",
       "      <td>2.058</td>\n",
       "      <td>3.180</td>\n",
       "      <td>7.194</td>\n",
       "      <td>...</td>\n",
       "      <td>14.773</td>\n",
       "      <td>159.515</td>\n",
       "      <td>234.505</td>\n",
       "      <td>170</td>\n",
       "      <td>169</td>\n",
       "      <td>0.005181</td>\n",
       "      <td>0.000403</td>\n",
       "      <td>2.247</td>\n",
       "      <td>0</td>\n",
       "      <td>0.000</td>\n",
       "    </tr>\n",
       "    <tr>\n",
       "      <th>1</th>\n",
       "      <td>1.220</td>\n",
       "      <td>0.000074</td>\n",
       "      <td>0.732</td>\n",
       "      <td>0.670</td>\n",
       "      <td>2.196</td>\n",
       "      <td>8.719</td>\n",
       "      <td>0.875</td>\n",
       "      <td>4.347</td>\n",
       "      <td>5.166</td>\n",
       "      <td>7.548</td>\n",
       "      <td>...</td>\n",
       "      <td>12.981</td>\n",
       "      <td>146.445</td>\n",
       "      <td>211.442</td>\n",
       "      <td>1431</td>\n",
       "      <td>1427</td>\n",
       "      <td>0.006071</td>\n",
       "      <td>0.000474</td>\n",
       "      <td>10.656</td>\n",
       "      <td>1</td>\n",
       "      <td>0.178</td>\n",
       "    </tr>\n",
       "    <tr>\n",
       "      <th>2</th>\n",
       "      <td>2.502</td>\n",
       "      <td>0.000123</td>\n",
       "      <td>1.156</td>\n",
       "      <td>1.634</td>\n",
       "      <td>3.469</td>\n",
       "      <td>13.513</td>\n",
       "      <td>1.273</td>\n",
       "      <td>5.263</td>\n",
       "      <td>8.771</td>\n",
       "      <td>16.779</td>\n",
       "      <td>...</td>\n",
       "      <td>10.853</td>\n",
       "      <td>182.713</td>\n",
       "      <td>220.230</td>\n",
       "      <td>94</td>\n",
       "      <td>92</td>\n",
       "      <td>0.004910</td>\n",
       "      <td>0.000320</td>\n",
       "      <td>0.000</td>\n",
       "      <td>0</td>\n",
       "      <td>0.000</td>\n",
       "    </tr>\n",
       "    <tr>\n",
       "      <th>3</th>\n",
       "      <td>3.509</td>\n",
       "      <td>0.000167</td>\n",
       "      <td>1.715</td>\n",
       "      <td>1.539</td>\n",
       "      <td>5.145</td>\n",
       "      <td>9.112</td>\n",
       "      <td>1.040</td>\n",
       "      <td>3.102</td>\n",
       "      <td>4.927</td>\n",
       "      <td>12.823</td>\n",
       "      <td>...</td>\n",
       "      <td>11.499</td>\n",
       "      <td>182.821</td>\n",
       "      <td>225.162</td>\n",
       "      <td>117</td>\n",
       "      <td>114</td>\n",
       "      <td>0.004757</td>\n",
       "      <td>0.000380</td>\n",
       "      <td>18.182</td>\n",
       "      <td>1</td>\n",
       "      <td>13.318</td>\n",
       "    </tr>\n",
       "    <tr>\n",
       "      <th>4</th>\n",
       "      <td>2.470</td>\n",
       "      <td>0.000126</td>\n",
       "      <td>1.358</td>\n",
       "      <td>1.341</td>\n",
       "      <td>4.075</td>\n",
       "      <td>10.696</td>\n",
       "      <td>1.256</td>\n",
       "      <td>5.262</td>\n",
       "      <td>7.076</td>\n",
       "      <td>9.199</td>\n",
       "      <td>...</td>\n",
       "      <td>4.692</td>\n",
       "      <td>186.593</td>\n",
       "      <td>202.812</td>\n",
       "      <td>74</td>\n",
       "      <td>73</td>\n",
       "      <td>0.005118</td>\n",
       "      <td>0.000187</td>\n",
       "      <td>23.214</td>\n",
       "      <td>0</td>\n",
       "      <td>0.000</td>\n",
       "    </tr>\n",
       "  </tbody>\n",
       "</table>\n",
       "<p>5 rows × 26 columns</p>\n",
       "</div>"
      ],
      "text/plain": [
       "   Jitter(local)  Jitter(local,absolute)  Jitter(rap)  Jitter(ppq5)  \\\n",
       "0          0.728                0.000038        0.353         0.376   \n",
       "1          1.220                0.000074        0.732         0.670   \n",
       "2          2.502                0.000123        1.156         1.634   \n",
       "3          3.509                0.000167        1.715         1.539   \n",
       "4          2.470                0.000126        1.358         1.341   \n",
       "\n",
       "   Jitter(ddp)  Shimmer(local)  Shimmer(local, dB)  Shimmer(apq3)  \\\n",
       "0        1.059           5.864               0.642          2.058   \n",
       "1        2.196           8.719               0.875          4.347   \n",
       "2        3.469          13.513               1.273          5.263   \n",
       "3        5.145           9.112               1.040          3.102   \n",
       "4        4.075          10.696               1.256          5.262   \n",
       "\n",
       "   Shimmer(apq5)  Shimmer(apq11)  ...  Standard.deviation  Minimum.pitch  \\\n",
       "0          3.180           7.194  ...              14.773        159.515   \n",
       "1          5.166           7.548  ...              12.981        146.445   \n",
       "2          8.771          16.779  ...              10.853        182.713   \n",
       "3          4.927          12.823  ...              11.499        182.821   \n",
       "4          7.076           9.199  ...               4.692        186.593   \n",
       "\n",
       "   Maximum.pitch  Number.of.pulses  Number.of.periods  Mean.period  \\\n",
       "0        234.505               170                169     0.005181   \n",
       "1        211.442              1431               1427     0.006071   \n",
       "2        220.230                94                 92     0.004910   \n",
       "3        225.162               117                114     0.004757   \n",
       "4        202.812                74                 73     0.005118   \n",
       "\n",
       "   Standard.deviation.of.period  Fraction.of.locally.unvoiced.frames  \\\n",
       "0                      0.000403                                2.247   \n",
       "1                      0.000474                               10.656   \n",
       "2                      0.000320                                0.000   \n",
       "3                      0.000380                               18.182   \n",
       "4                      0.000187                               23.214   \n",
       "\n",
       "   Number.of.voice.breaks  Degree.of.voice.breaks  \n",
       "0                       0                   0.000  \n",
       "1                       1                   0.178  \n",
       "2                       0                   0.000  \n",
       "3                       1                  13.318  \n",
       "4                       0                   0.000  \n",
       "\n",
       "[5 rows x 26 columns]"
      ]
     },
     "execution_count": 10,
     "metadata": {},
     "output_type": "execute_result"
    }
   ],
   "source": [
    "X.head()"
   ]
  },
  {
   "cell_type": "code",
   "execution_count": 11,
   "id": "ba3e90f0",
   "metadata": {},
   "outputs": [
    {
     "data": {
      "text/plain": [
       "0    23\n",
       "1    23\n",
       "2    23\n",
       "3    23\n",
       "4    23\n",
       "Name: UPDRS.score, dtype: int64"
      ]
     },
     "execution_count": 11,
     "metadata": {},
     "output_type": "execute_result"
    }
   ],
   "source": [
    "Y.head()"
   ]
  },
  {
   "cell_type": "markdown",
   "id": "ca12ac51",
   "metadata": {},
   "source": [
    "##### Note: Some of the unwanted variables such as 'class.information' and 'Subject.id' were removed from the dataset to ease the analysis while variables named 'UPDRS.score' was assigned as the response variable, Y. Hence, the remaining 26 variables were assinged as the dependant variables, X."
   ]
  },
  {
   "cell_type": "markdown",
   "id": "35939c9f",
   "metadata": {},
   "source": [
    "### Performing Principal Component Analysis, PCA"
   ]
  },
  {
   "cell_type": "markdown",
   "id": "d159a040",
   "metadata": {},
   "source": [
    "#### 6. Standardizing the data using scale() function"
   ]
  },
  {
   "cell_type": "code",
   "execution_count": 12,
   "id": "24b2161f",
   "metadata": {},
   "outputs": [],
   "source": [
    "pca = PCA()\n",
    "X_reduced = pca.fit_transform(scale(X))"
   ]
  },
  {
   "cell_type": "markdown",
   "id": "dbfe4af1",
   "metadata": {},
   "source": [
    "#### 7. Generating first few variables of the first few PCA"
   ]
  },
  {
   "cell_type": "code",
   "execution_count": 13,
   "id": "398b7cbb",
   "metadata": {},
   "outputs": [
    {
     "data": {
      "text/html": [
       "<div>\n",
       "<style scoped>\n",
       "    .dataframe tbody tr th:only-of-type {\n",
       "        vertical-align: middle;\n",
       "    }\n",
       "\n",
       "    .dataframe tbody tr th {\n",
       "        vertical-align: top;\n",
       "    }\n",
       "\n",
       "    .dataframe thead th {\n",
       "        text-align: right;\n",
       "    }\n",
       "</style>\n",
       "<table border=\"1\" class=\"dataframe\">\n",
       "  <thead>\n",
       "    <tr style=\"text-align: right;\">\n",
       "      <th></th>\n",
       "      <th>0</th>\n",
       "      <th>1</th>\n",
       "      <th>2</th>\n",
       "      <th>3</th>\n",
       "      <th>4</th>\n",
       "      <th>5</th>\n",
       "      <th>6</th>\n",
       "      <th>7</th>\n",
       "      <th>8</th>\n",
       "      <th>9</th>\n",
       "    </tr>\n",
       "  </thead>\n",
       "  <tbody>\n",
       "    <tr>\n",
       "      <th>0</th>\n",
       "      <td>0.252756</td>\n",
       "      <td>0.046193</td>\n",
       "      <td>0.138235</td>\n",
       "      <td>-0.305155</td>\n",
       "      <td>0.091907</td>\n",
       "      <td>0.046792</td>\n",
       "      <td>0.005115</td>\n",
       "      <td>0.069429</td>\n",
       "      <td>0.013871</td>\n",
       "      <td>0.112975</td>\n",
       "    </tr>\n",
       "    <tr>\n",
       "      <th>1</th>\n",
       "      <td>0.199367</td>\n",
       "      <td>-0.201648</td>\n",
       "      <td>0.067251</td>\n",
       "      <td>-0.323586</td>\n",
       "      <td>0.165538</td>\n",
       "      <td>0.030901</td>\n",
       "      <td>0.002935</td>\n",
       "      <td>0.104479</td>\n",
       "      <td>0.057221</td>\n",
       "      <td>0.098965</td>\n",
       "    </tr>\n",
       "    <tr>\n",
       "      <th>2</th>\n",
       "      <td>0.242342</td>\n",
       "      <td>0.064097</td>\n",
       "      <td>0.202091</td>\n",
       "      <td>-0.283479</td>\n",
       "      <td>0.135848</td>\n",
       "      <td>0.046146</td>\n",
       "      <td>0.053760</td>\n",
       "      <td>0.090991</td>\n",
       "      <td>-0.023537</td>\n",
       "      <td>-0.068933</td>\n",
       "    </tr>\n",
       "    <tr>\n",
       "      <th>3</th>\n",
       "      <td>0.230048</td>\n",
       "      <td>0.056671</td>\n",
       "      <td>0.203631</td>\n",
       "      <td>-0.276959</td>\n",
       "      <td>0.137929</td>\n",
       "      <td>0.061348</td>\n",
       "      <td>0.036239</td>\n",
       "      <td>0.089060</td>\n",
       "      <td>-0.043624</td>\n",
       "      <td>-0.052180</td>\n",
       "    </tr>\n",
       "    <tr>\n",
       "      <th>4</th>\n",
       "      <td>0.242343</td>\n",
       "      <td>0.064095</td>\n",
       "      <td>0.202083</td>\n",
       "      <td>-0.283479</td>\n",
       "      <td>0.135857</td>\n",
       "      <td>0.046148</td>\n",
       "      <td>0.053769</td>\n",
       "      <td>0.090984</td>\n",
       "      <td>-0.023543</td>\n",
       "      <td>-0.068941</td>\n",
       "    </tr>\n",
       "  </tbody>\n",
       "</table>\n",
       "</div>"
      ],
      "text/plain": [
       "          0         1         2         3         4         5         6  \\\n",
       "0  0.252756  0.046193  0.138235 -0.305155  0.091907  0.046792  0.005115   \n",
       "1  0.199367 -0.201648  0.067251 -0.323586  0.165538  0.030901  0.002935   \n",
       "2  0.242342  0.064097  0.202091 -0.283479  0.135848  0.046146  0.053760   \n",
       "3  0.230048  0.056671  0.203631 -0.276959  0.137929  0.061348  0.036239   \n",
       "4  0.242343  0.064095  0.202083 -0.283479  0.135857  0.046148  0.053769   \n",
       "\n",
       "          7         8         9  \n",
       "0  0.069429  0.013871  0.112975  \n",
       "1  0.104479  0.057221  0.098965  \n",
       "2  0.090991 -0.023537 -0.068933  \n",
       "3  0.089060 -0.043624 -0.052180  \n",
       "4  0.090984 -0.023543 -0.068941  "
      ]
     },
     "execution_count": 13,
     "metadata": {},
     "output_type": "execute_result"
    }
   ],
   "source": [
    "pd.DataFrame(pca.components_.T).loc[:4,:9]"
   ]
  },
  {
   "cell_type": "markdown",
   "id": "bd19184a",
   "metadata": {},
   "source": [
    "#### 8. Performing the k-fold cross validation method to identify the suitable number of principal components needed for this model"
   ]
  },
  {
   "cell_type": "code",
   "execution_count": 14,
   "id": "75ff4dee",
   "metadata": {},
   "outputs": [
    {
     "data": {
      "image/png": "[encoded data removed]",
      "text/plain": [
       "<Figure size 432x288 with 1 Axes>"
      ]
     },
     "metadata": {
      "needs_background": "light"
     },
     "output_type": "display_data"
    }
   ],
   "source": [
    "n = len(X_reduced)\n",
    "kf_10 = model_selection.KFold(n_splits=10, shuffle=True, random_state=1)\n",
    "\n",
    "regr = LinearRegression()\n",
    "mse = []\n",
    "\n",
    "score = -1*model_selection.cross_val_score(regr, np.ones((n,1)), \n",
    "                                           Y.ravel(), cv=kf_10, scoring='neg_mean_squared_error').mean()    \n",
    "mse.append(score)\n",
    "\n",
    "for i in np.arange(1, 27):\n",
    "    score = -1*model_selection.cross_val_score(regr, X_reduced[:,:i], \n",
    "                                               Y.ravel(), cv=kf_10, scoring='neg_mean_squared_error').mean()\n",
    "    mse.append(score)\n",
    "      \n",
    "plt.plot(mse, '-X')\n",
    "plt.xlabel('Number of principal components in regression')\n",
    "plt.ylabel('MSE')\n",
    "plt.title('UPDRS score')\n",
    "plt.xlim(xmin=-1);"
   ]
  },
  {
   "cell_type": "markdown",
   "id": "95c6f176",
   "metadata": {},
   "source": [
    "#### Step 9: Amount of variance explained by adding each consecutive principal component"
   ]
  },
  {
   "cell_type": "code",
   "execution_count": 16,
   "id": "56e369bc",
   "metadata": {},
   "outputs": [
    {
     "data": {
      "text/plain": [
       "array([ 40.53,  57.75,  67.45,  76.67,  83.05,  87.45,  90.04,  92.31,\n",
       "        94.1 ,  95.03,  95.87,  96.62,  97.27,  97.83,  98.32,  98.75,\n",
       "        99.14,  99.5 ,  99.76,  99.85,  99.94,  99.99, 100.01, 100.01,\n",
       "       100.01, 100.01])"
      ]
     },
     "execution_count": 16,
     "metadata": {},
     "output_type": "execute_result"
    }
   ],
   "source": [
    "np.cumsum(np.round(pca.explained_variance_ratio_, decimals=4)*100)"
   ]
  },
  {
   "cell_type": "markdown",
   "id": "06f1d8bd",
   "metadata": {},
   "source": [
    "##### Note: \n",
    "Based on the results obtained from step 8 and step 9, it shows that suitable models such as model with 7 principal components and 9 principal components. However, taking into account that there is a drop from the 8th principal component to 9th. So, the model with 9 principal component is chosen as the suitable model to predict the UPDRS score. The model with 15 principal component is also having a lesser MSE but not chosen because of the 3 consecutive increase in the MSE value of the model with principal component from 10 to 12. Furthermore, The amount of variability shown for the model with 9 principal components is 94.1% which is a good percentage of variability. This indicate that the model with 9 variables is able to explain the data about 94.1%.\n"
   ]
  },
  {
   "cell_type": "markdown",
   "id": "d3f25121",
   "metadata": {},
   "source": [
    "### Performing Principal Component Regression, PCR"
   ]
  },
  {
   "cell_type": "markdown",
   "id": "b6aa53b2",
   "metadata": {},
   "source": [
    "#### Step 10: perform PCA on the training data and evaluate its test set performance"
   ]
  },
  {
   "cell_type": "code",
   "execution_count": 17,
   "id": "641b2836",
   "metadata": {},
   "outputs": [
    {
     "data": {
      "image/png": "[encoded data removed]",
      "text/plain": [
       "<Figure size 432x288 with 1 Axes>"
      ]
     },
     "metadata": {
      "needs_background": "light"
     },
     "output_type": "display_data"
    }
   ],
   "source": [
    "#splitting the training and testing data\n",
    "pca_new = PCA()\n",
    "X_train, X_test , Y_train, Y_test = model_selection.train_test_split(X, Y, test_size=0.5, random_state=1)\n",
    "\n",
    "# Scale the data\n",
    "X_reduced_train = pca_new.fit_transform(scale(X_train))\n",
    "n = len(X_reduced_train)\n",
    "\n",
    "# 10-fold CV, with shuffle\n",
    "kf_10 = model_selection.KFold(n_splits=10, shuffle=True, random_state=1)\n",
    "\n",
    "mse = []\n",
    "\n",
    "# Calculate MSE with only the intercept (no principal components in regression)\n",
    "score = -1*model_selection.cross_val_score(regr, np.ones((n,1)), \n",
    "                                           Y_train.ravel(), cv=kf_10, scoring='neg_mean_squared_error').mean()    \n",
    "mse.append(score)\n",
    "\n",
    "# Calculate MSE using CV for the 26 principle components, adding one component at the time.\n",
    "for i in np.arange(1, 27):\n",
    "    score = -1*model_selection.cross_val_score(regr, X_reduced_train[:,:i], \n",
    "                                               Y_train.ravel(), cv=kf_10, scoring='neg_mean_squared_error').mean()\n",
    "    mse.append(score)\n",
    "\n",
    "plt.plot(np.array(mse), '-X')\n",
    "plt.xlabel('Number of principal components in regression')\n",
    "plt.ylabel('MSE')\n",
    "plt.title('UPDRS Score')\n",
    "plt.xlim(xmin=-1);"
   ]
  },
  {
   "cell_type": "markdown",
   "id": "55bf879d",
   "metadata": {},
   "source": [
    "#### Amount of variance explained by adding each consecutive principal component"
   ]
  },
  {
   "cell_type": "code",
   "execution_count": 18,
   "id": "9d3a5ccf",
   "metadata": {
    "scrolled": true
   },
   "outputs": [
    {
     "data": {
      "text/plain": [
       "array([ 41.58,  59.25,  68.56,  77.28,  83.5 ,  87.8 ,  90.41,  92.74,\n",
       "        94.4 ,  95.3 ,  96.06,  96.79,  97.47,  98.09,  98.55,  98.91,\n",
       "        99.26,  99.55,  99.8 ,  99.89,  99.96, 100.01, 100.03, 100.03,\n",
       "       100.03, 100.03])"
      ]
     },
     "execution_count": 18,
     "metadata": {},
     "output_type": "execute_result"
    }
   ],
   "source": [
    "np.cumsum(np.round(pca_new.explained_variance_ratio_, decimals=4)*100)"
   ]
  },
  {
   "cell_type": "markdown",
   "id": "c6b94838",
   "metadata": {},
   "source": [
    "##### Note:\n",
    "Even though the first smallest mse is at 3rd pca, however choosing it might result in missing out some important infomation as the variability itself still low (68.56) so it is adequate to take the 9th principal component as suggested by the k-fold cross-validation approach."
   ]
  },
  {
   "cell_type": "markdown",
   "id": "c8394a78",
   "metadata": {},
   "source": [
    "#### Step 11: Evaluating the model performance using the test dataset"
   ]
  },
  {
   "cell_type": "markdown",
   "id": "c34ded2c",
   "metadata": {},
   "source": [
    "#### Using 9 principal components"
   ]
  },
  {
   "cell_type": "code",
   "execution_count": 19,
   "id": "b6c41f0d",
   "metadata": {},
   "outputs": [
    {
     "data": {
      "text/plain": [
       "212.28799464283702"
      ]
     },
     "execution_count": 19,
     "metadata": {},
     "output_type": "execute_result"
    }
   ],
   "source": [
    "X_reduced_test = pca_new.transform(scale(X_test))[:,:10] \n",
    "\n",
    "regr = LinearRegression()\n",
    "regr.fit(X_reduced_train[:,:10], Y_train)\n",
    "\n",
    "pred = regr.predict(X_reduced_test)\n",
    "mean_squared_error(Y_test, pred)"
   ]
  },
  {
   "cell_type": "markdown",
   "id": "64645d58",
   "metadata": {},
   "source": [
    "#### Using 5 principal components (the second lowest MSE)"
   ]
  },
  {
   "cell_type": "code",
   "execution_count": 20,
   "id": "34af5856",
   "metadata": {},
   "outputs": [
    {
     "data": {
      "text/plain": [
       "227.7489612563948"
      ]
     },
     "execution_count": 20,
     "metadata": {},
     "output_type": "execute_result"
    }
   ],
   "source": [
    "X_reduced_test = pca_new.transform(scale(X_test))[:,:6] \n",
    "\n",
    "regr = LinearRegression()\n",
    "regr.fit(X_reduced_train[:,:6], Y_train)\n",
    "\n",
    "pred = regr.predict(X_reduced_test)\n",
    "mean_squared_error(Y_test, pred)"
   ]
  },
  {
   "cell_type": "markdown",
   "id": "52e40bf1",
   "metadata": {},
   "source": [
    "##### Note: Trying the 2 suggested PCR model with 9 principal components and 5 principal components. It is found that using model with 9 principal components has a lower MSE compared to the model with 5 principal components."
   ]
  },
  {
   "cell_type": "markdown",
   "id": "372f131f",
   "metadata": {},
   "source": [
    "### Conclusion:\n",
    "\n",
    "In a nutshell, the best model to predict the UPDRS score is model with 9 principal components. This is \n",
    "because the lower MSE value. Furthermore, the variability explained by this model is about 94.4% \n",
    "based on the PCR plot, this indicates that this model with 9 variables is adequate enough to predict the \n",
    "UPDRS score. Taking into account the law of parsimony where a model should be simple yet gives a \n",
    "good prediction, hence choosing the model with 9 principal component is adequate as the mean squared \n",
    "error (MSE) is smallest for this model. However, choosing a model lower than 9 variables might be \n",
    "resulting in lack of information to predict the model accurately."
   ]
  },
  {
   "cell_type": "code",
   "execution_count": null,
   "id": "c984bbca",
   "metadata": {},
   "outputs": [],
   "source": []
  }
 ],
 "metadata": {
  "kernelspec": {
   "display_name": "Python 3 (ipykernel)",
   "language": "python",
   "name": "python3"
  },
  "language_info": {
   "codemirror_mode": {
    "name": "ipython",
    "version": 3
   },
   "file_extension": ".py",
   "mimetype": "text/x-python",
   "name": "python",
   "nbconvert_exporter": "python",
   "pygments_lexer": "ipython3",
   "version": "3.9.7"
  }
 },
 "nbformat": 4,
 "nbformat_minor": 5
}
